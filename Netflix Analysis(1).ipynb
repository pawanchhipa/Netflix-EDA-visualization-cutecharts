{
 "cells": [
  {
   "cell_type": "markdown",
   "id": "8cf500b5",
   "metadata": {},
   "source": [
    "The aim of this notebook to:\n",
    "\n",
    "Importing Libraies--Data preprocessing--Handling missing data--Data visualization\n",
    "\n",
    "1) Type content is available .\n",
    "2) Top Five Rating Category.\n",
    "3) Top Five Directors.\n",
    "4) Top Ten Actors.\n",
    "5) Trend of focus on TV Shows and movies in recent years.\n",
    "6) Top Ten countries with most content"
   ]
  },
  {
   "cell_type": "markdown",
   "id": "11df7841",
   "metadata": {},
   "source": [
    "# Importing Libraries"
   ]
  },
  {
   "cell_type": "code",
   "execution_count": 1,
   "id": "4cc80af6",
   "metadata": {},
   "outputs": [
    {
     "name": "stdout",
     "output_type": "stream",
     "text": [
      "Collecting cutecharts\n",
      "  Downloading cutecharts-1.2.0-py3-none-any.whl (17 kB)\n",
      "Requirement already satisfied: jinja2 in c:\\users\\user\\anaconda3\\lib\\site-packages (from cutecharts) (2.11.3)\n",
      "Requirement already satisfied: MarkupSafe>=0.23 in c:\\users\\user\\anaconda3\\lib\\site-packages (from jinja2->cutecharts) (2.0.1)\n",
      "Installing collected packages: cutecharts\n",
      "Successfully installed cutecharts-1.2.0\n"
     ]
    }
   ],
   "source": [
    "!pip install cutecharts"
   ]
  },
  {
   "cell_type": "code",
   "execution_count": 25,
   "id": "9780fa23",
   "metadata": {},
   "outputs": [],
   "source": [
    "import pandas as pd\n",
    "import numpy as np\n",
    "import cutecharts.charts as ctc\n",
    "from cutecharts.charts import Line\n",
    "from cutecharts.faker import Faker\n",
    "import matplotlib.pyplot as plt\n",
    "import warnings\n",
    "warnings.filterwarnings('ignore')"
   ]
  },
  {
   "cell_type": "markdown",
   "id": "ad710f86",
   "metadata": {},
   "source": [
    "This dataset contains information about Netflix Movies and TV Shows."
   ]
  },
  {
   "cell_type": "code",
   "execution_count": 26,
   "id": "93eab32f",
   "metadata": {},
   "outputs": [],
   "source": [
    "data = pd.read_csv(\"netflix_titles.csv\")"
   ]
  },
  {
   "cell_type": "code",
   "execution_count": 27,
   "id": "5955e23a",
   "metadata": {},
   "outputs": [
    {
     "name": "stdout",
     "output_type": "stream",
     "text": [
      "--------------------------------------------------\n",
      "\n",
      "Size of Netflix data is (8807, 12)\n",
      "\n",
      "--------------------------------------------------\n"
     ]
    },
    {
     "data": {
      "text/html": [
       "<div>\n",
       "<style scoped>\n",
       "    .dataframe tbody tr th:only-of-type {\n",
       "        vertical-align: middle;\n",
       "    }\n",
       "\n",
       "    .dataframe tbody tr th {\n",
       "        vertical-align: top;\n",
       "    }\n",
       "\n",
       "    .dataframe thead th {\n",
       "        text-align: right;\n",
       "    }\n",
       "</style>\n",
       "<table border=\"1\" class=\"dataframe\">\n",
       "  <thead>\n",
       "    <tr style=\"text-align: right;\">\n",
       "      <th></th>\n",
       "      <th>show_id</th>\n",
       "      <th>type</th>\n",
       "      <th>title</th>\n",
       "      <th>director</th>\n",
       "      <th>cast</th>\n",
       "      <th>country</th>\n",
       "      <th>date_added</th>\n",
       "      <th>release_year</th>\n",
       "      <th>rating</th>\n",
       "      <th>duration</th>\n",
       "      <th>listed_in</th>\n",
       "      <th>description</th>\n",
       "    </tr>\n",
       "  </thead>\n",
       "  <tbody>\n",
       "    <tr>\n",
       "      <th>0</th>\n",
       "      <td>s1</td>\n",
       "      <td>Movie</td>\n",
       "      <td>Dick Johnson Is Dead</td>\n",
       "      <td>Kirsten Johnson</td>\n",
       "      <td>NaN</td>\n",
       "      <td>United States</td>\n",
       "      <td>September 25, 2021</td>\n",
       "      <td>2020</td>\n",
       "      <td>PG-13</td>\n",
       "      <td>90 min</td>\n",
       "      <td>Documentaries</td>\n",
       "      <td>As her father nears the end of his life, filmm...</td>\n",
       "    </tr>\n",
       "    <tr>\n",
       "      <th>1</th>\n",
       "      <td>s2</td>\n",
       "      <td>TV Show</td>\n",
       "      <td>Blood &amp; Water</td>\n",
       "      <td>NaN</td>\n",
       "      <td>Ama Qamata, Khosi Ngema, Gail Mabalane, Thaban...</td>\n",
       "      <td>South Africa</td>\n",
       "      <td>September 24, 2021</td>\n",
       "      <td>2021</td>\n",
       "      <td>TV-MA</td>\n",
       "      <td>2 Seasons</td>\n",
       "      <td>International TV Shows, TV Dramas, TV Mysteries</td>\n",
       "      <td>After crossing paths at a party, a Cape Town t...</td>\n",
       "    </tr>\n",
       "    <tr>\n",
       "      <th>2</th>\n",
       "      <td>s3</td>\n",
       "      <td>TV Show</td>\n",
       "      <td>Ganglands</td>\n",
       "      <td>Julien Leclercq</td>\n",
       "      <td>Sami Bouajila, Tracy Gotoas, Samuel Jouy, Nabi...</td>\n",
       "      <td>NaN</td>\n",
       "      <td>September 24, 2021</td>\n",
       "      <td>2021</td>\n",
       "      <td>TV-MA</td>\n",
       "      <td>1 Season</td>\n",
       "      <td>Crime TV Shows, International TV Shows, TV Act...</td>\n",
       "      <td>To protect his family from a powerful drug lor...</td>\n",
       "    </tr>\n",
       "    <tr>\n",
       "      <th>3</th>\n",
       "      <td>s4</td>\n",
       "      <td>TV Show</td>\n",
       "      <td>Jailbirds New Orleans</td>\n",
       "      <td>NaN</td>\n",
       "      <td>NaN</td>\n",
       "      <td>NaN</td>\n",
       "      <td>September 24, 2021</td>\n",
       "      <td>2021</td>\n",
       "      <td>TV-MA</td>\n",
       "      <td>1 Season</td>\n",
       "      <td>Docuseries, Reality TV</td>\n",
       "      <td>Feuds, flirtations and toilet talk go down amo...</td>\n",
       "    </tr>\n",
       "    <tr>\n",
       "      <th>4</th>\n",
       "      <td>s5</td>\n",
       "      <td>TV Show</td>\n",
       "      <td>Kota Factory</td>\n",
       "      <td>NaN</td>\n",
       "      <td>Mayur More, Jitendra Kumar, Ranjan Raj, Alam K...</td>\n",
       "      <td>India</td>\n",
       "      <td>September 24, 2021</td>\n",
       "      <td>2021</td>\n",
       "      <td>TV-MA</td>\n",
       "      <td>2 Seasons</td>\n",
       "      <td>International TV Shows, Romantic TV Shows, TV ...</td>\n",
       "      <td>In a city of coaching centers known to train I...</td>\n",
       "    </tr>\n",
       "  </tbody>\n",
       "</table>\n",
       "</div>"
      ],
      "text/plain": [
       "  show_id     type                  title         director  \\\n",
       "0      s1    Movie   Dick Johnson Is Dead  Kirsten Johnson   \n",
       "1      s2  TV Show          Blood & Water              NaN   \n",
       "2      s3  TV Show              Ganglands  Julien Leclercq   \n",
       "3      s4  TV Show  Jailbirds New Orleans              NaN   \n",
       "4      s5  TV Show           Kota Factory              NaN   \n",
       "\n",
       "                                                cast        country  \\\n",
       "0                                                NaN  United States   \n",
       "1  Ama Qamata, Khosi Ngema, Gail Mabalane, Thaban...   South Africa   \n",
       "2  Sami Bouajila, Tracy Gotoas, Samuel Jouy, Nabi...            NaN   \n",
       "3                                                NaN            NaN   \n",
       "4  Mayur More, Jitendra Kumar, Ranjan Raj, Alam K...          India   \n",
       "\n",
       "           date_added  release_year rating   duration  \\\n",
       "0  September 25, 2021          2020  PG-13     90 min   \n",
       "1  September 24, 2021          2021  TV-MA  2 Seasons   \n",
       "2  September 24, 2021          2021  TV-MA   1 Season   \n",
       "3  September 24, 2021          2021  TV-MA   1 Season   \n",
       "4  September 24, 2021          2021  TV-MA  2 Seasons   \n",
       "\n",
       "                                           listed_in  \\\n",
       "0                                      Documentaries   \n",
       "1    International TV Shows, TV Dramas, TV Mysteries   \n",
       "2  Crime TV Shows, International TV Shows, TV Act...   \n",
       "3                             Docuseries, Reality TV   \n",
       "4  International TV Shows, Romantic TV Shows, TV ...   \n",
       "\n",
       "                                         description  \n",
       "0  As her father nears the end of his life, filmm...  \n",
       "1  After crossing paths at a party, a Cape Town t...  \n",
       "2  To protect his family from a powerful drug lor...  \n",
       "3  Feuds, flirtations and toilet talk go down amo...  \n",
       "4  In a city of coaching centers known to train I...  "
      ]
     },
     "execution_count": 27,
     "metadata": {},
     "output_type": "execute_result"
    }
   ],
   "source": [
    "print('-' * 50)\n",
    "print('\\nSize of Netflix data is {}\\n'.format(data.shape))\n",
    "print('-' * 50)\n",
    "data.head()"
   ]
  },
  {
   "cell_type": "markdown",
   "id": "e9917572",
   "metadata": {},
   "source": [
    "# Data Preprocessing"
   ]
  },
  {
   "cell_type": "code",
   "execution_count": 28,
   "id": "940c4815",
   "metadata": {},
   "outputs": [
    {
     "name": "stdout",
     "output_type": "stream",
     "text": [
      "--------------------------------------------------\n",
      "\n",
      "Statstical information about the given Data\n",
      "\n",
      "--------------------------------------------------\n"
     ]
    },
    {
     "data": {
      "text/html": [
       "<div>\n",
       "<style scoped>\n",
       "    .dataframe tbody tr th:only-of-type {\n",
       "        vertical-align: middle;\n",
       "    }\n",
       "\n",
       "    .dataframe tbody tr th {\n",
       "        vertical-align: top;\n",
       "    }\n",
       "\n",
       "    .dataframe thead th {\n",
       "        text-align: right;\n",
       "    }\n",
       "</style>\n",
       "<table border=\"1\" class=\"dataframe\">\n",
       "  <thead>\n",
       "    <tr style=\"text-align: right;\">\n",
       "      <th></th>\n",
       "      <th>release_year</th>\n",
       "    </tr>\n",
       "  </thead>\n",
       "  <tbody>\n",
       "    <tr>\n",
       "      <th>count</th>\n",
       "      <td>8807.000000</td>\n",
       "    </tr>\n",
       "    <tr>\n",
       "      <th>mean</th>\n",
       "      <td>2014.180198</td>\n",
       "    </tr>\n",
       "    <tr>\n",
       "      <th>std</th>\n",
       "      <td>8.819312</td>\n",
       "    </tr>\n",
       "    <tr>\n",
       "      <th>min</th>\n",
       "      <td>1925.000000</td>\n",
       "    </tr>\n",
       "    <tr>\n",
       "      <th>25%</th>\n",
       "      <td>2013.000000</td>\n",
       "    </tr>\n",
       "    <tr>\n",
       "      <th>50%</th>\n",
       "      <td>2017.000000</td>\n",
       "    </tr>\n",
       "    <tr>\n",
       "      <th>75%</th>\n",
       "      <td>2019.000000</td>\n",
       "    </tr>\n",
       "    <tr>\n",
       "      <th>max</th>\n",
       "      <td>2021.000000</td>\n",
       "    </tr>\n",
       "  </tbody>\n",
       "</table>\n",
       "</div>"
      ],
      "text/plain": [
       "       release_year\n",
       "count   8807.000000\n",
       "mean    2014.180198\n",
       "std        8.819312\n",
       "min     1925.000000\n",
       "25%     2013.000000\n",
       "50%     2017.000000\n",
       "75%     2019.000000\n",
       "max     2021.000000"
      ]
     },
     "execution_count": 28,
     "metadata": {},
     "output_type": "execute_result"
    }
   ],
   "source": [
    "print('-' * 50)\n",
    "print(\"\\nStatstical information about the given Data\\n\")\n",
    "print('-' * 50)\n",
    "data.describe()"
   ]
  },
  {
   "cell_type": "markdown",
   "id": "a59d1649",
   "metadata": {},
   "source": [
    "# Handling Missing Data\n",
    "\n",
    "    1)replace missing with 'No Director'\n",
    "    2)replace missing cast with 'No Cast'\n",
    "    3)replace missing countries with 'Not Specify'\n",
    "\n"
   ]
  },
  {
   "cell_type": "code",
   "execution_count": 29,
   "id": "206461ea",
   "metadata": {},
   "outputs": [
    {
     "data": {
      "text/plain": [
       "show_id          0\n",
       "type             0\n",
       "title            0\n",
       "director         0\n",
       "cast             0\n",
       "country          0\n",
       "date_added      10\n",
       "release_year     0\n",
       "rating           4\n",
       "duration         3\n",
       "listed_in        0\n",
       "description      0\n",
       "dtype: int64"
      ]
     },
     "execution_count": 29,
     "metadata": {},
     "output_type": "execute_result"
    }
   ],
   "source": [
    "data['director'].replace(np.nan, 'No Director',inplace=True)\n",
    "data['cast'].replace(np.nan, 'No Cast',inplace=True)\n",
    "data['country'].replace(np.nan, 'Not Specify',inplace=True)\n",
    "data.isnull().sum()"
   ]
  },
  {
   "cell_type": "code",
   "execution_count": 30,
   "id": "d0066157",
   "metadata": {},
   "outputs": [
    {
     "data": {
      "text/plain": [
       "show_id         0\n",
       "type            0\n",
       "title           0\n",
       "director        0\n",
       "cast            0\n",
       "country         0\n",
       "date_added      0\n",
       "release_year    0\n",
       "rating          0\n",
       "duration        0\n",
       "listed_in       0\n",
       "description     0\n",
       "dtype: int64"
      ]
     },
     "execution_count": 30,
     "metadata": {},
     "output_type": "execute_result"
    }
   ],
   "source": [
    "#drop null value\n",
    "data = data.dropna()\n",
    "data.isnull().sum()"
   ]
  },
  {
   "cell_type": "code",
   "execution_count": 31,
   "id": "3e65888e",
   "metadata": {},
   "outputs": [
    {
     "name": "stdout",
     "output_type": "stream",
     "text": [
      "--------------------------------------------------\n",
      "Check Duplicates\n",
      "--------------------------------------------------\n",
      "Total Duplicates values:  0\n",
      "--------------------------------------------------\n"
     ]
    }
   ],
   "source": [
    "print('-' * 50)\n",
    "print(\"Check Duplicates\")\n",
    "print('-' * 50)\n",
    "print('Total Duplicates values: ',data.duplicated().sum())\n",
    "print('-' * 50)"
   ]
  },
  {
   "cell_type": "markdown",
   "id": "8c10295c",
   "metadata": {},
   "source": [
    "# Data Visualization"
   ]
  },
  {
   "cell_type": "markdown",
   "id": "48f6e4af",
   "metadata": {},
   "source": [
    "# 1) Type of the content available"
   ]
  },
  {
   "cell_type": "code",
   "execution_count": 32,
   "id": "85a7f192",
   "metadata": {},
   "outputs": [
    {
     "data": {
      "text/plain": [
       "Movie      6126\n",
       "TV Show    2664\n",
       "Name: type, dtype: int64"
      ]
     },
     "execution_count": 32,
     "metadata": {},
     "output_type": "execute_result"
    }
   ],
   "source": [
    "data['type'].value_counts()"
   ]
  },
  {
   "cell_type": "markdown",
   "id": "709b2b4c",
   "metadata": {},
   "source": [
    "Pie chart of content"
   ]
  },
  {
   "cell_type": "code",
   "execution_count": 35,
   "id": "a651f222",
   "metadata": {},
   "outputs": [
    {
     "data": {
      "text/plain": [
       "array(['Movie', 'TV Show'], dtype=object)"
      ]
     },
     "execution_count": 35,
     "metadata": {},
     "output_type": "execute_result"
    }
   ],
   "source": [
    "t_labels = data['type'].unique()\n",
    "t_labels"
   ]
  },
  {
   "cell_type": "code",
   "execution_count": 48,
   "id": "f05f0cc2",
   "metadata": {},
   "outputs": [
    {
     "data": {
      "text/html": [
       "\n",
       "<script>\n",
       "    require.config({\n",
       "        paths: {\n",
       "            'chartXkcd':'https://cdn.jsdelivr.net/npm/chart.xkcd@1.1/dist/chart.xkcd.min'\n",
       "        }\n",
       "    });\n",
       "</script>\n",
       "\n",
       "<div id=\"0a06886806594560992eb6e2dd27d746\" class=\"chart-container\" style=\"width: 600px\">\n",
       "        <svg id=\"chart_0a06886806594560992eb6e2dd27d746\"></svg>\n",
       "    </div>\n",
       "    <script>\n",
       "        require(['chartXkcd'], function(chartXkcd) {\n",
       "            const svg_0a06886806594560992eb6e2dd27d746 = document.querySelector('#chart_0a06886806594560992eb6e2dd27d746')\n",
       "            const chart_0a06886806594560992eb6e2dd27d746 = new chartXkcd.Pie(svg_0a06886806594560992eb6e2dd27d746, {\"title\": \"Type of content\", \"data\": {\"datasets\": [{\"data\": [6126, 2664]}], \"labels\": [\"Movie\", \"TV Show\"]}, \"options\": {\"innerRadius\": 0, \"legendPosition\": 1, \"dataColors\": [\"Red\", \"blue\"]}});\n",
       "        })\n",
       "    </script>\n"
      ],
      "text/plain": [
       "<cutecharts.render.engine.HTML at 0x182ae3b06d0>"
      ]
     },
     "execution_count": 48,
     "metadata": {},
     "output_type": "execute_result"
    }
   ],
   "source": [
    "\n",
    "# pie chart \n",
    "pie = ctc.Pie('Type of content', # title\n",
    "              width='600px',height='300px')\n",
    "\n",
    "# set the chart options\n",
    "pie.set_options(labels=list(t_labels), # names as labels\n",
    "                inner_radius=0,       # inner radius set to 0\n",
    "                colors=['Red','blue'])\n",
    "\n",
    "# label to be shown on graph\n",
    "pie.add_series(list(t_values)) \n",
    "\n",
    "# display the charts\n",
    "pie.render_notebook()"
   ]
  },
  {
   "cell_type": "markdown",
   "id": "50ace076",
   "metadata": {},
   "source": [
    "# 2) Top Five Rating Category "
   ]
  },
  {
   "cell_type": "code",
   "execution_count": 77,
   "id": "b2181f74",
   "metadata": {},
   "outputs": [],
   "source": [
    "newdata = data.groupby('rating').size().rename_axis('Rating').reset_index(name='Count')\n",
    "nd = newdata.sort_values(by ='Count', ascending=True)\n",
    "nd = nd.tail(5)"
   ]
  },
  {
   "cell_type": "code",
   "execution_count": 78,
   "id": "b378320c",
   "metadata": {},
   "outputs": [
    {
     "data": {
      "text/html": [
       "\n",
       "<script>\n",
       "    require.config({\n",
       "        paths: {\n",
       "            'chartXkcd':'https://cdn.jsdelivr.net/npm/chart.xkcd@1.1/dist/chart.xkcd.min'\n",
       "        }\n",
       "    });\n",
       "</script>\n",
       "\n",
       "<div id=\"c3e081f2f13c4b0ab354f06768e87f9d\" class=\"chart-container\" style=\"width: 600px\">\n",
       "        <svg id=\"chart_c3e081f2f13c4b0ab354f06768e87f9d\"></svg>\n",
       "    </div>\n",
       "    <script>\n",
       "        require(['chartXkcd'], function(chartXkcd) {\n",
       "            const svg_c3e081f2f13c4b0ab354f06768e87f9d = document.querySelector('#chart_c3e081f2f13c4b0ab354f06768e87f9d')\n",
       "            const chart_c3e081f2f13c4b0ab354f06768e87f9d = new chartXkcd.Bar(svg_c3e081f2f13c4b0ab354f06768e87f9d, {\"title\": \"Top Five Rating Category\", \"data\": {\"datasets\": [{\"label\": \"Geners\", \"data\": [490, 799, 861, 2157, 3205]}], \"labels\": [\"PG-13\", \"R\", \"TV-PG\", \"TV-14\", \"TV-MA\"]}, \"xLabel\": \"Category\", \"yLabel\": \"Count\", \"options\": {\"yTickCount\": 3, \"dataColors\": [\"#c23531\", \"#2f4554\", \"#61a0a8\", \"#d48265\", \"#749f83\", \"#ca8622\", \"#bda29a\"]}});\n",
       "        })\n",
       "    </script>\n"
      ],
      "text/plain": [
       "<cutecharts.render.engine.HTML at 0x182abfe9340>"
      ]
     },
     "execution_count": 78,
     "metadata": {},
     "output_type": "execute_result"
    }
   ],
   "source": [
    "chart = ctc.Bar('Top Five Rating Category', width='600px', height='300px')\n",
    "\n",
    "chart.set_options(labels=list(nd.Rating), x_label='Category', y_label='Count', colors=Faker.colors)\n",
    "\n",
    "chart.add_series('Geners',list(nd['Count']))\n",
    "\n",
    "chart.render_notebook()"
   ]
  },
  {
   "cell_type": "markdown",
   "id": "3098ebd1",
   "metadata": {},
   "source": [
    "# 3) Top Five Directors"
   ]
  },
  {
   "cell_type": "code",
   "execution_count": 79,
   "id": "175e765d",
   "metadata": {},
   "outputs": [
    {
     "data": {
      "text/html": [
       "<div>\n",
       "<style scoped>\n",
       "    .dataframe tbody tr th:only-of-type {\n",
       "        vertical-align: middle;\n",
       "    }\n",
       "\n",
       "    .dataframe tbody tr th {\n",
       "        vertical-align: top;\n",
       "    }\n",
       "\n",
       "    .dataframe thead th {\n",
       "        text-align: right;\n",
       "    }\n",
       "</style>\n",
       "<table border=\"1\" class=\"dataframe\">\n",
       "  <thead>\n",
       "    <tr style=\"text-align: right;\">\n",
       "      <th></th>\n",
       "      <th>director</th>\n",
       "      <th>counts</th>\n",
       "    </tr>\n",
       "  </thead>\n",
       "  <tbody>\n",
       "    <tr>\n",
       "      <th>4019</th>\n",
       "      <td>Rajiv Chilaka</td>\n",
       "      <td>22</td>\n",
       "    </tr>\n",
       "    <tr>\n",
       "      <th>4066</th>\n",
       "      <td>Raúl Campos</td>\n",
       "      <td>18</td>\n",
       "    </tr>\n",
       "    <tr>\n",
       "      <th>261</th>\n",
       "      <td>Jan Suter</td>\n",
       "      <td>18</td>\n",
       "    </tr>\n",
       "    <tr>\n",
       "      <th>4650</th>\n",
       "      <td>Suhas Kadav</td>\n",
       "      <td>16</td>\n",
       "    </tr>\n",
       "    <tr>\n",
       "      <th>3233</th>\n",
       "      <td>Marcus Raboy</td>\n",
       "      <td>16</td>\n",
       "    </tr>\n",
       "  </tbody>\n",
       "</table>\n",
       "</div>"
      ],
      "text/plain": [
       "           director  counts\n",
       "4019  Rajiv Chilaka      22\n",
       "4066    Raúl Campos      18\n",
       "261       Jan Suter      18\n",
       "4650    Suhas Kadav      16\n",
       "3233   Marcus Raboy      16"
      ]
     },
     "execution_count": 79,
     "metadata": {},
     "output_type": "execute_result"
    }
   ],
   "source": [
    "fil_directors = data['director'].str.split(',',expand=True).stack()\n",
    "fil_directors= pd.DataFrame(fil_directors)\n",
    "fil_directors.columns = ['director']\n",
    "directors = fil_directors.groupby(['director']).size().reset_index(name='counts')\n",
    "directors = directors.sort_values(by='counts',ascending=False)\n",
    "directors = directors[directors['director'] != 'No Director']\n",
    "directors = directors.head(5)\n",
    "directors"
   ]
  },
  {
   "cell_type": "code",
   "execution_count": 81,
   "id": "5b570e6c",
   "metadata": {},
   "outputs": [
    {
     "data": {
      "text/html": [
       "\n",
       "<script>\n",
       "    require.config({\n",
       "        paths: {\n",
       "            'chartXkcd':'https://cdn.jsdelivr.net/npm/chart.xkcd@1.1/dist/chart.xkcd.min'\n",
       "        }\n",
       "    });\n",
       "</script>\n",
       "\n",
       "<div id=\"a5cf0584d4204201b9e8b95d68d89f82\" class=\"chart-container\" style=\"width: 500px\">\n",
       "        <svg id=\"chart_a5cf0584d4204201b9e8b95d68d89f82\"></svg>\n",
       "    </div>\n",
       "    <script>\n",
       "        require(['chartXkcd'], function(chartXkcd) {\n",
       "            const svg_a5cf0584d4204201b9e8b95d68d89f82 = document.querySelector('#chart_a5cf0584d4204201b9e8b95d68d89f82')\n",
       "            const chart_a5cf0584d4204201b9e8b95d68d89f82 = new chartXkcd.Bar(svg_a5cf0584d4204201b9e8b95d68d89f82, {\"title\": \"Top Five Director\", \"data\": {\"datasets\": [{\"label\": \"Geners\", \"data\": [22, 18, 18, 16, 16]}], \"labels\": [\"Rajiv Chilaka\", \"Ra\\u00fal Campos\", \" Jan Suter\", \"Suhas Kadav\", \"Marcus Raboy\"]}, \"xLabel\": \"Director\", \"yLabel\": \"Number of Movie\", \"options\": {\"yTickCount\": 3, \"dataColors\": [\"#c23531\", \"#2f4554\", \"#61a0a8\", \"#d48265\", \"#749f83\", \"#ca8622\", \"#bda29a\"]}});\n",
       "        })\n",
       "    </script>\n"
      ],
      "text/plain": [
       "<cutecharts.render.engine.HTML at 0x182ac001910>"
      ]
     },
     "execution_count": 81,
     "metadata": {},
     "output_type": "execute_result"
    }
   ],
   "source": [
    "chart = ctc.Bar('Top Five Director', width='500px', height='100px')\n",
    "\n",
    "chart.set_options(labels=list(directors.director),x_label='Director',y_label='Number of Movie', colors=Faker.colors)\n",
    "\n",
    "chart.add_series('Geners',list(directors.counts))\n",
    "\n",
    "chart.render_notebook()"
   ]
  },
  {
   "cell_type": "markdown",
   "id": "5954fa67",
   "metadata": {},
   "source": [
    "# 4) Top Five Actors"
   ]
  },
  {
   "cell_type": "code",
   "execution_count": 82,
   "id": "a95f889d",
   "metadata": {},
   "outputs": [
    {
     "data": {
      "text/html": [
       "<div>\n",
       "<style scoped>\n",
       "    .dataframe tbody tr th:only-of-type {\n",
       "        vertical-align: middle;\n",
       "    }\n",
       "\n",
       "    .dataframe tbody tr th {\n",
       "        vertical-align: top;\n",
       "    }\n",
       "\n",
       "    .dataframe thead th {\n",
       "        text-align: right;\n",
       "    }\n",
       "</style>\n",
       "<table border=\"1\" class=\"dataframe\">\n",
       "  <thead>\n",
       "    <tr style=\"text-align: right;\">\n",
       "      <th></th>\n",
       "      <th>cast</th>\n",
       "      <th>counts</th>\n",
       "    </tr>\n",
       "  </thead>\n",
       "  <tbody>\n",
       "    <tr>\n",
       "      <th>2605</th>\n",
       "      <td>Anupam Kher</td>\n",
       "      <td>39</td>\n",
       "    </tr>\n",
       "    <tr>\n",
       "      <th>26903</th>\n",
       "      <td>Rupa Bhimani</td>\n",
       "      <td>31</td>\n",
       "    </tr>\n",
       "    <tr>\n",
       "      <th>30263</th>\n",
       "      <td>Takahiro Sakurai</td>\n",
       "      <td>30</td>\n",
       "    </tr>\n",
       "    <tr>\n",
       "      <th>15518</th>\n",
       "      <td>Julie Tejwani</td>\n",
       "      <td>28</td>\n",
       "    </tr>\n",
       "    <tr>\n",
       "      <th>23591</th>\n",
       "      <td>Om Puri</td>\n",
       "      <td>27</td>\n",
       "    </tr>\n",
       "  </tbody>\n",
       "</table>\n",
       "</div>"
      ],
      "text/plain": [
       "                    cast  counts\n",
       "2605         Anupam Kher      39\n",
       "26903       Rupa Bhimani      31\n",
       "30263   Takahiro Sakurai      30\n",
       "15518      Julie Tejwani      28\n",
       "23591            Om Puri      27"
      ]
     },
     "execution_count": 82,
     "metadata": {},
     "output_type": "execute_result"
    }
   ],
   "source": [
    "fil_actors = data['cast'].str.split(',',expand=True).stack()\n",
    "fil_actors= pd.DataFrame(fil_actors)\n",
    "fil_actors.columns = ['cast']\n",
    "actors = fil_actors.groupby(['cast']).size().reset_index(name='counts')\n",
    "actors = actors.sort_values(by='counts',ascending=False)\n",
    "actors = actors[actors['cast'] != 'No Cast']\n",
    "actors = actors.head(5)\n",
    "actors"
   ]
  },
  {
   "cell_type": "code",
   "execution_count": 88,
   "id": "162c3ac5",
   "metadata": {},
   "outputs": [
    {
     "data": {
      "text/html": [
       "\n",
       "<script>\n",
       "    require.config({\n",
       "        paths: {\n",
       "            'chartXkcd':'https://cdn.jsdelivr.net/npm/chart.xkcd@1.1/dist/chart.xkcd.min'\n",
       "        }\n",
       "    });\n",
       "</script>\n",
       "\n",
       "<div id=\"d05ac82bab8649f4b65e4dd4986be61d\" class=\"chart-container\" style=\"width: 500px\">\n",
       "        <svg id=\"chart_d05ac82bab8649f4b65e4dd4986be61d\"></svg>\n",
       "    </div>\n",
       "    <script>\n",
       "        require(['chartXkcd'], function(chartXkcd) {\n",
       "            const svg_d05ac82bab8649f4b65e4dd4986be61d = document.querySelector('#chart_d05ac82bab8649f4b65e4dd4986be61d')\n",
       "            const chart_d05ac82bab8649f4b65e4dd4986be61d = new chartXkcd.Bar(svg_d05ac82bab8649f4b65e4dd4986be61d, {\"title\": \"Top Five Actor\", \"data\": {\"datasets\": [{\"label\": \"Geners\", \"data\": [39, 31, 30, 28, 27]}], \"labels\": [\" Anupam Kher\", \" Rupa Bhimani\", \" Takahiro Sakurai\", \" Julie Tejwani\", \" Om Puri\"]}, \"xLabel\": \"Actor\", \"yLabel\": \"Number of Movie\", \"options\": {\"yTickCount\": 3, \"dataColors\": [\"#c23531\", \"#2f4554\", \"#61a0a8\", \"#d48265\", \"#749f83\", \"#ca8622\", \"#bda29a\"]}});\n",
       "        })\n",
       "    </script>\n"
      ],
      "text/plain": [
       "<cutecharts.render.engine.HTML at 0x182abf47220>"
      ]
     },
     "execution_count": 88,
     "metadata": {},
     "output_type": "execute_result"
    }
   ],
   "source": [
    "chart = ctc.Bar('Top Five Actor', width='500px', height='100px')\n",
    "\n",
    "chart.set_options(labels=list(actors.cast),x_label='Actor',y_label='Number of Movie', colors=Faker.colors)\n",
    "\n",
    "chart.add_series('Geners',list(actors.counts))\n",
    "\n",
    "chart.render_notebook()"
   ]
  },
  {
   "cell_type": "markdown",
   "id": "b469779f",
   "metadata": {},
   "source": [
    "# 5) Trend of focus on TV Shows and movies in recent years."
   ]
  },
  {
   "cell_type": "code",
   "execution_count": 89,
   "id": "aa33b708",
   "metadata": {},
   "outputs": [],
   "source": [
    "dff = data[['type','release_year']]\n",
    "dff = dff.rename(columns = {'release_year' : 'Release Year'})\n",
    "dff2 = dff.groupby(['Release Year','type']).size().reset_index(name='Total Content')\n",
    "dff2 = dff2[dff2['Release Year']>=2011]\n",
    "dff3 = dff2[dff2['type']=='Movie']\n",
    "dff4 = dff2[dff2['type']=='TV Show']"
   ]
  },
  {
   "cell_type": "code",
   "execution_count": 91,
   "id": "3ce0a2ed",
   "metadata": {},
   "outputs": [
    {
     "data": {
      "text/html": [
       "\n",
       "<script>\n",
       "    require.config({\n",
       "        paths: {\n",
       "            'chartXkcd':'https://cdn.jsdelivr.net/npm/chart.xkcd@1.1/dist/chart.xkcd.min'\n",
       "        }\n",
       "    });\n",
       "</script>\n",
       "\n",
       "<div id=\"80fd7ca808b840f593d6f57f2f9950d8\" class=\"chart-container\" style=\"width: 800px\">\n",
       "        <svg id=\"chart_80fd7ca808b840f593d6f57f2f9950d8\"></svg>\n",
       "    </div>\n",
       "    <script>\n",
       "        require(['chartXkcd'], function(chartXkcd) {\n",
       "            const svg_80fd7ca808b840f593d6f57f2f9950d8 = document.querySelector('#chart_80fd7ca808b840f593d6f57f2f9950d8')\n",
       "            const chart_80fd7ca808b840f593d6f57f2f9950d8 = new chartXkcd.Line(svg_80fd7ca808b840f593d6f57f2f9950d8, {\"title\": \"Last 10 Years of trends\", \"data\": {\"datasets\": [{\"label\": \"Movie\", \"data\": [145, 173, 225, 264, 396, 658, 765, 767, 633, 517, 277]}, {\"label\": \"TV Show\", \"data\": [40, 63, 61, 88, 159, 243, 265, 379, 397, 436, 315]}], \"labels\": [2011, 2012, 2013, 2014, 2015, 2016, 2017, 2018, 2019, 2020, 2021]}, \"xLabel\": \"Year\", \"yLabel\": \"Count\", \"options\": {\"yTickCount\": 3, \"legendPosition\": 1}});\n",
       "        })\n",
       "    </script>\n"
      ],
      "text/plain": [
       "<cutecharts.render.engine.HTML at 0x182aab48e20>"
      ]
     },
     "execution_count": 91,
     "metadata": {},
     "output_type": "execute_result"
    }
   ],
   "source": [
    "chart = Line('Last 10 Years of trends')\n",
    "chart.set_options(labels=list(dff3['Release Year']), x_label='Year', y_label='Count',)\n",
    "chart.add_series('Movie', list(dff3['Total Content']))\n",
    "chart.add_series('TV Show', list(dff4['Total Content']))\n",
    "chart.render_notebook()"
   ]
  },
  {
   "cell_type": "markdown",
   "id": "d9009ba3",
   "metadata": {},
   "source": [
    "# 6) Top Ten countries with most content "
   ]
  },
  {
   "cell_type": "code",
   "execution_count": 94,
   "id": "d0c6285f",
   "metadata": {},
   "outputs": [
    {
     "data": {
      "text/html": [
       "<div>\n",
       "<style scoped>\n",
       "    .dataframe tbody tr th:only-of-type {\n",
       "        vertical-align: middle;\n",
       "    }\n",
       "\n",
       "    .dataframe tbody tr th {\n",
       "        vertical-align: top;\n",
       "    }\n",
       "\n",
       "    .dataframe thead th {\n",
       "        text-align: right;\n",
       "    }\n",
       "</style>\n",
       "<table border=\"1\" class=\"dataframe\">\n",
       "  <thead>\n",
       "    <tr style=\"text-align: right;\">\n",
       "      <th></th>\n",
       "      <th>count</th>\n",
       "    </tr>\n",
       "  </thead>\n",
       "  <tbody>\n",
       "    <tr>\n",
       "      <th>United States</th>\n",
       "      <td>2809</td>\n",
       "    </tr>\n",
       "    <tr>\n",
       "      <th>India</th>\n",
       "      <td>972</td>\n",
       "    </tr>\n",
       "    <tr>\n",
       "      <th>Not Specify</th>\n",
       "      <td>829</td>\n",
       "    </tr>\n",
       "    <tr>\n",
       "      <th>United Kingdom</th>\n",
       "      <td>418</td>\n",
       "    </tr>\n",
       "    <tr>\n",
       "      <th>Japan</th>\n",
       "      <td>243</td>\n",
       "    </tr>\n",
       "    <tr>\n",
       "      <th>South Korea</th>\n",
       "      <td>199</td>\n",
       "    </tr>\n",
       "    <tr>\n",
       "      <th>Canada</th>\n",
       "      <td>181</td>\n",
       "    </tr>\n",
       "    <tr>\n",
       "      <th>Spain</th>\n",
       "      <td>145</td>\n",
       "    </tr>\n",
       "    <tr>\n",
       "      <th>France</th>\n",
       "      <td>124</td>\n",
       "    </tr>\n",
       "    <tr>\n",
       "      <th>Mexico</th>\n",
       "      <td>110</td>\n",
       "    </tr>\n",
       "  </tbody>\n",
       "</table>\n",
       "</div>"
      ],
      "text/plain": [
       "                count\n",
       "United States    2809\n",
       "India             972\n",
       "Not Specify       829\n",
       "United Kingdom    418\n",
       "Japan             243\n",
       "South Korea       199\n",
       "Canada            181\n",
       "Spain             145\n",
       "France            124\n",
       "Mexico            110"
      ]
     },
     "execution_count": 94,
     "metadata": {},
     "output_type": "execute_result"
    }
   ],
   "source": [
    "top_countries=data['country'].value_counts()[:10].to_frame(name='count')\n",
    "top_countries"
   ]
  },
  {
   "cell_type": "code",
   "execution_count": 96,
   "id": "458ff3d3",
   "metadata": {},
   "outputs": [
    {
     "data": {
      "text/html": [
       "\n",
       "<script>\n",
       "    require.config({\n",
       "        paths: {\n",
       "            'chartXkcd':'https://cdn.jsdelivr.net/npm/chart.xkcd@1.1/dist/chart.xkcd.min'\n",
       "        }\n",
       "    });\n",
       "</script>\n",
       "\n",
       "<div id=\"067b9c60c75945adb4786b5df8cf4dca\" class=\"chart-container\" style=\"width: 600px\">\n",
       "        <svg id=\"chart_067b9c60c75945adb4786b5df8cf4dca\"></svg>\n",
       "    </div>\n",
       "    <script>\n",
       "        require(['chartXkcd'], function(chartXkcd) {\n",
       "            const svg_067b9c60c75945adb4786b5df8cf4dca = document.querySelector('#chart_067b9c60c75945adb4786b5df8cf4dca')\n",
       "            const chart_067b9c60c75945adb4786b5df8cf4dca = new chartXkcd.Pie(svg_067b9c60c75945adb4786b5df8cf4dca, {\"title\": \"Countries with most content\", \"data\": {\"datasets\": [{\"data\": [2809, 972, 829, 418, 243, 199, 181, 145, 124, 110]}], \"labels\": [\"United States\", \"India\", \"Not Specify\", \"United Kingdom\", \"Japan\", \"South Korea\", \"Canada\", \"Spain\", \"France\", \"Mexico\"]}, \"options\": {\"innerRadius\": 0, \"legendPosition\": 1}});\n",
       "        })\n",
       "    </script>\n"
      ],
      "text/plain": [
       "<cutecharts.render.engine.HTML at 0x182abf5ef70>"
      ]
     },
     "execution_count": 96,
     "metadata": {},
     "output_type": "execute_result"
    }
   ],
   "source": [
    "pie =ctc.Pie('Countries with most content',width='600px',height='300px')\n",
    "pie.set_options(labels=list(top_countries.index),inner_radius=0)\n",
    "pie.add_series(list(top_countries['count']))\n",
    "pie.render_notebook()"
   ]
  },
  {
   "cell_type": "code",
   "execution_count": null,
   "id": "b0c35fc3",
   "metadata": {},
   "outputs": [],
   "source": []
  }
 ],
 "metadata": {
  "kernelspec": {
   "display_name": "Python 3 (ipykernel)",
   "language": "python",
   "name": "python3"
  },
  "language_info": {
   "codemirror_mode": {
    "name": "ipython",
    "version": 3
   },
   "file_extension": ".py",
   "mimetype": "text/x-python",
   "name": "python",
   "nbconvert_exporter": "python",
   "pygments_lexer": "ipython3",
   "version": "3.9.12"
  }
 },
 "nbformat": 4,
 "nbformat_minor": 5
}
